{
 "cells": [
  {
   "cell_type": "code",
   "execution_count": 3,
   "metadata": {},
   "outputs": [
    {
     "name": "stdout",
     "output_type": "stream",
     "text": [
      "OK. You may continue :)\n"
     ]
    }
   ],
   "source": [
    "# imports\n",
    "import pandas as pd\n",
    "import numpy as np\n",
    "import matplotlib.pyplot as plt\n",
    "import openml\n",
    "import time\n",
    "import math\n",
    "import tqdm\n",
    "%matplotlib inline\n",
    "\n",
    "# Pre-flight checklist. Do not change this code.\n",
    "# Make sure that you have installed recent versions of key packages.\n",
    "from packaging import version\n",
    "import sklearn\n",
    "sklearn_version = sklearn.__version__\n",
    "if version.parse(sklearn_version) < version.parse(\"0.24.0\"):\n",
    "    print(\"scikit-learn is outdated. Please update now! pip install -U scikit-learn\")\n",
    "else:\n",
    "    print(\"OK. You may continue :)\")"
   ]
  },
  {
   "cell_type": "code",
   "execution_count": 6,
   "metadata": {},
   "outputs": [],
   "source": [
    "# Plotting functions. Don't edit these.\n",
    "%matplotlib inline\n",
    "from IPython import display\n",
    "\n",
    "def plot_live(X, y, evaluator, param_name, param_range, scale='log', ylim=(0,1), ylabel='score', marker = '.'):\n",
    "    \"\"\" Renders a plot that updates with every evaluation from the evaluator.\n",
    "    Keyword arguments:\n",
    "    X -- the data for training and testing\n",
    "    y -- the correct labels\n",
    "    evaluator -- a function with signature (X, y, param_value) that returns a dictionary of scores.\n",
    "                 Examples: {\"train\": 0.9, \"test\": 0.95} or {\"model_1\": 0.9, \"model_2\": 0.7}\n",
    "    param_name -- the parameter that is being varied on the X axis. Can be a hyperparameter, sample size,...\n",
    "    param_range -- list of all possible values on the x-axis\n",
    "    scale -- defines which scale to plot the x-axis on, either 'log' (logarithmic) or 'linear'\n",
    "    ylim -- tuple with the lowest and highest y-value to plot (e.g. (0, 1))\n",
    "    ylabel -- the y-axis title\n",
    "    \"\"\"\n",
    "    # Plot interactively\n",
    "    plt.ion()\n",
    "    plt.ylabel(ylabel)\n",
    "    plt.xlabel(param_name)\n",
    "    \n",
    "    # Make the scale look nice\n",
    "    plt.xscale(scale)\n",
    "    plt.xlim(param_range[0],param_range[-1])\n",
    "    plt.ylim(ylim)\n",
    "        \n",
    "    # Start from empty plot, then fill it\n",
    "    series = {}\n",
    "    lines = {}\n",
    "    xvals = []\n",
    "    for i in param_range:\n",
    "        scores = evaluator(X, y, i) \n",
    "        if i == param_range[0]: # initialize series\n",
    "            for k in scores.keys():\n",
    "                lines[k], = plt.plot(xvals, [], marker = marker, label = k)\n",
    "                series[k] = []\n",
    "        xvals.append(i)\n",
    "        for k in scores.keys(): # append new data\n",
    "            series[k].append(scores[k])\n",
    "            lines[k].set_data(xvals, series[k])\n",
    "        # refresh plot\n",
    "        plt.legend(loc='best')\n",
    "        plt.margins(0.1)\n",
    "        display.display(plt.gcf())\n",
    "        display.clear_output(wait=True)\n",
    "        \n",
    "def plot_examples(images, labels, row_length=5):\n",
    "    \"\"\" Plots and labels the given images\n",
    "    Keyword arguments:\n",
    "    images -- An array of images. Each image is expected to be a flat array of 28x28=784 values\n",
    "    labels -- The labels for each image\n",
    "    row_length -- The length of each row of images\n",
    "    \"\"\"\n",
    "    nr_rows = math.floor(len(images) /row_length)\n",
    "    if (len(images) % row_length) > 0:\n",
    "        nr_rows += 1\n",
    "    fig, axes = plt.subplots(nr_rows, row_length, figsize=(10, 3* nr_rows))\n",
    "    for i, n in enumerate(images):\n",
    "        if len(images) > row_length:\n",
    "            axes[math.floor(i/row_length)][i%row_length].imshow(n.reshape(28, 28), cmap=plt.cm.gray_r)\n",
    "            axes[math.floor(i/row_length)][i%row_length].set_xlabel(labels[i])\n",
    "            axes[math.floor(i/row_length)][i%row_length].set_xticks(())\n",
    "            axes[math.floor(i/row_length)][i%row_length].set_yticks(())\n",
    "        else:\n",
    "            axes[i].imshow(n.reshape(28, 28), cmap=plt.cm.gray_r)\n",
    "            axes[i].set_xlabel(labels[i])\n",
    "            axes[i].set_xticks(())\n",
    "            axes[i].set_yticks(())       \n",
    "    plt.show();"
   ]
  },
  {
   "cell_type": "code",
   "execution_count": 4,
   "metadata": {},
   "outputs": [],
   "source": [
    "# Note: these variables are the only ones that are assumed known. Define all other variables inside functions.\n",
    "fmnist = openml.datasets.get_dataset(40996)\n",
    "X, y, _, _ = fmnist.get_data(target=fmnist.default_target_attribute); \n",
    "fmnist_classes = {0:\"T-shirt/top\", 1: \"Trouser\", 0: \"Pullover\", 0: \"Dress\", 0: \"Coat\", 0: \"Sandal\", \n",
    "                  0: \"Shirt\", 0: \"Sneaker\", 0: \"Bag\", 0: \"Ankle boot\"}\n",
    "\n",
    "# change class labels\n",
    "for c in y:\n",
    "    if c =! 1:\n",
    "        \n",
    "\n",
    "# Take a 1% stratified subsample to speed up experimentation\n",
    "from sklearn.model_selection import train_test_split\n",
    "Xs, _, ys, _ = train_test_split(X,y, stratify=y, train_size=0.01)\n"
   ]
  },
  {
   "cell_type": "code",
   "execution_count": 5,
   "metadata": {},
   "outputs": [
    {
     "data": {
      "text/plain": [
       "{'train': 0.8539285714285715, 'test': 0.7842857142857144}"
      ]
     },
     "execution_count": 5,
     "metadata": {},
     "output_type": "execute_result"
    }
   ],
   "source": [
    "def evaluate_SVM(X, y, C, gamma):\n",
    "    from sklearn.svm import SVC\n",
    "    from sklearn.model_selection import cross_validate\n",
    "    \"\"\" Evaluate an SVM with 5-fold cross-validation on the provided (X, y) data. \n",
    "    Keyword arguments:\n",
    "    X -- the data for training and testing\n",
    "    y -- the correct labels\n",
    "    gamma -- the value for the gamma parameter\n",
    "    \n",
    "    Returns: a dictionary with the mean train and test score, e.g. {\"train\": 0.9, \"test\": 0.95}\n",
    "    \"\"\"\n",
    "    clf = SVC(kernel = 'rbf', C=C, gamma=gamma)\n",
    "    \n",
    "    xval = cross_validate(clf, X, y, return_train_score=True, n_jobs=-1)\n",
    "    mean_scores = {\"train\":np.mean(xval['train_score']),\"test\":np.mean(xval['test_score'])}\n",
    "        \n",
    "    return mean_scores\n",
    "\n",
    "evaluate_SVM(Xs, ys, 1.0, 1e-7)"
   ]
  },
  {
   "cell_type": "code",
   "execution_count": null,
   "metadata": {},
   "outputs": [],
   "source": []
  }
 ],
 "metadata": {
  "kernelspec": {
   "display_name": "Python 3",
   "language": "python",
   "name": "python3"
  },
  "language_info": {
   "codemirror_mode": {
    "name": "ipython",
    "version": 3
   },
   "file_extension": ".py",
   "mimetype": "text/x-python",
   "name": "python",
   "nbconvert_exporter": "python",
   "pygments_lexer": "ipython3",
   "version": "3.8.5"
  }
 },
 "nbformat": 4,
 "nbformat_minor": 4
}
